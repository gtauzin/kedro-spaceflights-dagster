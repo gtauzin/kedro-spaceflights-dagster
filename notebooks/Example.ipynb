{
 "cells": [
  {
   "cell_type": "code",
   "execution_count": null,
   "id": "7fb27b941602401d91542211134fc71a",
   "metadata": {},
   "outputs": [],
   "source": [
    "# See https://docs.kedro.org/en/stable/notebooks_and_ipython/kedro_and_notebooks.html\n",
    "# %load_ext kedro.ipython"
   ]
  },
  {
   "cell_type": "code",
   "execution_count": null,
   "id": "acae54e37e7d407bbb7b55eff062a284",
   "metadata": {},
   "outputs": [],
   "source": [
    "# catalog.list()"
   ]
  },
  {
   "cell_type": "code",
   "execution_count": 1,
   "id": "cc3f5be4",
   "metadata": {},
   "outputs": [
    {
     "data": {
      "text/html": [
       "<pre style=\"white-space:pre;overflow-x:auto;line-height:normal;font-family:Menlo,'DejaVu Sans Mono',consolas,'Courier New',monospace\"><span style=\"color: #7fbfbf; text-decoration-color: #7fbfbf\">[10/29/24 11:37:28] </span><span style=\"color: #000080; text-decoration-color: #000080\">INFO    </span> Using                                                                  <a href=\"file:///home/guillaume/Workspace/kedro-dagster/.venv/lib/python3.12/site-packages/kedro/framework/project/__init__.py\" target=\"_blank\"><span style=\"color: #7f7f7f; text-decoration-color: #7f7f7f\">__init__.py</span></a><span style=\"color: #7f7f7f; text-decoration-color: #7f7f7f\">:</span><a href=\"file:///home/guillaume/Workspace/kedro-dagster/.venv/lib/python3.12/site-packages/kedro/framework/project/__init__.py#270\" target=\"_blank\"><span style=\"color: #7f7f7f; text-decoration-color: #7f7f7f\">270</span></a>\n",
       "<span style=\"color: #7fbfbf; text-decoration-color: #7fbfbf\">                    </span>         <span style=\"color: #008000; text-decoration-color: #008000\">'/home/guillaume/Workspace/kedro-dagster/.venv/lib/python3.12/site-pac</span> <span style=\"color: #7f7f7f; text-decoration-color: #7f7f7f\">               </span>\n",
       "<span style=\"color: #7fbfbf; text-decoration-color: #7fbfbf\">                    </span>         <span style=\"color: #008000; text-decoration-color: #008000\">kages/kedro/framework/project/rich_logging.yml'</span> as logging             <span style=\"color: #7f7f7f; text-decoration-color: #7f7f7f\">               </span>\n",
       "<span style=\"color: #7fbfbf; text-decoration-color: #7fbfbf\">                    </span>         configuration.                                                         <span style=\"color: #7f7f7f; text-decoration-color: #7f7f7f\">               </span>\n",
       "</pre>\n"
      ],
      "text/plain": [
       "\u001b[2;36m[10/29/24 11:37:28]\u001b[0m\u001b[2;36m \u001b[0m\u001b[34mINFO    \u001b[0m Using                                                                  \u001b]8;id=744898;file:///home/guillaume/Workspace/kedro-dagster/.venv/lib/python3.12/site-packages/kedro/framework/project/__init__.py\u001b\\\u001b[2m__init__.py\u001b[0m\u001b]8;;\u001b\\\u001b[2m:\u001b[0m\u001b]8;id=794165;file:///home/guillaume/Workspace/kedro-dagster/.venv/lib/python3.12/site-packages/kedro/framework/project/__init__.py#270\u001b\\\u001b[2m270\u001b[0m\u001b]8;;\u001b\\\n",
       "\u001b[2;36m                    \u001b[0m         \u001b[32m'/home/guillaume/Workspace/kedro-dagster/.venv/lib/python3.12/site-pac\u001b[0m \u001b[2m               \u001b[0m\n",
       "\u001b[2;36m                    \u001b[0m         \u001b[32mkages/kedro/framework/project/rich_logging.yml'\u001b[0m as logging             \u001b[2m               \u001b[0m\n",
       "\u001b[2;36m                    \u001b[0m         configuration.                                                         \u001b[2m               \u001b[0m\n"
      ]
     },
     "metadata": {},
     "output_type": "display_data"
    }
   ],
   "source": [
    "# <project_root>/register_prefect_flow.py\n",
    "import click"
   ]
  },
  {
   "cell_type": "code",
   "execution_count": 5,
   "id": "8b06200c",
   "metadata": {},
   "outputs": [],
   "source": [
    "from dagster import get_dagster_logger\n",
    "\n",
    "\n",
    "def kedro_init(\n",
    "    pipeline_name: str,\n",
    "    project_path: Path,\n",
    "    env: str,\n",
    "):\n",
    "    \"\"\"\n",
    "    Initializes a Kedro session and returns the DataCatalog and KedroSession.\n",
    "\n",
    "\n",
    "    \"\"\"\n",
    "    # bootstrap project within task / flow scope\n",
    "\n",
    "    logger = get_dagster_logger()\n",
    "    logger.info(\"Bootstrapping project\")\n",
    "    bootstrap_project(project_path)\n",
    "\n",
    "    session = KedroSession.create(\n",
    "        project_path=project_path,\n",
    "        env=env,\n",
    "    )\n",
    "    # Note that for logging inside a Prefect task logger is used.\n",
    "    logger.info(\"Session created with ID %s\", session.session_id)\n",
    "    pipeline = pipelines.get(pipeline_name)\n",
    "    logger.info(\"Loading context...\")\n",
    "    context = session.load_context()\n",
    "    catalog = context.catalog\n",
    "    logger.info(\"Registering datasets...\")\n",
    "    unregistered_ds = pipeline.datasets() - set(catalog.list())\n",
    "    for ds_name in unregistered_ds:\n",
    "        catalog.add(ds_name, MemoryDataset())\n",
    "    return {\"catalog\": catalog, \"sess_id\": session.session_id}"
   ]
  },
  {
   "cell_type": "code",
   "execution_count": 22,
   "id": "c01b1853",
   "metadata": {},
   "outputs": [
    {
     "data": {
      "text/html": [
       "<pre style=\"white-space:pre;overflow-x:auto;line-height:normal;font-family:Menlo,'DejaVu Sans Mono',consolas,'Courier New',monospace\"><span style=\"color: #7fbfbf; text-decoration-color: #7fbfbf\">[10/29/24 18:29:46] </span><span style=\"color: #000080; text-decoration-color: #000080\">INFO    </span> Bootstrapping project                                                 <a href=\"file:///tmp/ipykernel_938598/2989318381.py\" target=\"_blank\"><span style=\"color: #7f7f7f; text-decoration-color: #7f7f7f\">2989318381.py</span></a><span style=\"color: #7f7f7f; text-decoration-color: #7f7f7f\">:</span><a href=\"file:///tmp/ipykernel_938598/2989318381.py#16\" target=\"_blank\"><span style=\"color: #7f7f7f; text-decoration-color: #7f7f7f\">16</span></a>\n",
       "</pre>\n"
      ],
      "text/plain": [
       "\u001b[2;36m[10/29/24 18:29:46]\u001b[0m\u001b[2;36m \u001b[0m\u001b[34mINFO    \u001b[0m Bootstrapping project                                                 \u001b]8;id=300025;file:///tmp/ipykernel_938598/2989318381.py\u001b\\\u001b[2m2989318381.py\u001b[0m\u001b]8;;\u001b\\\u001b[2m:\u001b[0m\u001b]8;id=323317;file:///tmp/ipykernel_938598/2989318381.py#16\u001b\\\u001b[2m16\u001b[0m\u001b]8;;\u001b\\\n"
      ]
     },
     "metadata": {},
     "output_type": "display_data"
    },
    {
     "data": {
      "text/html": [
       "<pre style=\"white-space:pre;overflow-x:auto;line-height:normal;font-family:Menlo,'DejaVu Sans Mono',consolas,'Courier New',monospace\"><span style=\"color: #7fbfbf; text-decoration-color: #7fbfbf\">                    </span><span style=\"color: #000080; text-decoration-color: #000080\">INFO    </span> Session created with ID <span style=\"color: #008080; text-decoration-color: #008080; font-weight: bold\">2024</span>-<span style=\"color: #008080; text-decoration-color: #008080; font-weight: bold\">10</span>-29T<span style=\"color: #00ff00; text-decoration-color: #00ff00; font-weight: bold\">17.29.46.521</span>Z                      <a href=\"file:///tmp/ipykernel_938598/2989318381.py\" target=\"_blank\"><span style=\"color: #7f7f7f; text-decoration-color: #7f7f7f\">2989318381.py</span></a><span style=\"color: #7f7f7f; text-decoration-color: #7f7f7f\">:</span><a href=\"file:///tmp/ipykernel_938598/2989318381.py#24\" target=\"_blank\"><span style=\"color: #7f7f7f; text-decoration-color: #7f7f7f\">24</span></a>\n",
       "</pre>\n"
      ],
      "text/plain": [
       "\u001b[2;36m                   \u001b[0m\u001b[2;36m \u001b[0m\u001b[34mINFO    \u001b[0m Session created with ID \u001b[1;36m2024\u001b[0m-\u001b[1;36m10\u001b[0m-29T\u001b[1;92m17.29.46.521\u001b[0mZ                      \u001b]8;id=46701;file:///tmp/ipykernel_938598/2989318381.py\u001b\\\u001b[2m2989318381.py\u001b[0m\u001b]8;;\u001b\\\u001b[2m:\u001b[0m\u001b]8;id=174074;file:///tmp/ipykernel_938598/2989318381.py#24\u001b\\\u001b[2m24\u001b[0m\u001b]8;;\u001b\\\n"
      ]
     },
     "metadata": {},
     "output_type": "display_data"
    },
    {
     "data": {
      "text/html": [
       "<pre style=\"white-space:pre;overflow-x:auto;line-height:normal;font-family:Menlo,'DejaVu Sans Mono',consolas,'Courier New',monospace\"><span style=\"color: #7fbfbf; text-decoration-color: #7fbfbf\">                    </span><span style=\"color: #000080; text-decoration-color: #000080\">INFO    </span> Loading context<span style=\"color: #808000; text-decoration-color: #808000\">...</span>                                                    <a href=\"file:///tmp/ipykernel_938598/2989318381.py\" target=\"_blank\"><span style=\"color: #7f7f7f; text-decoration-color: #7f7f7f\">2989318381.py</span></a><span style=\"color: #7f7f7f; text-decoration-color: #7f7f7f\">:</span><a href=\"file:///tmp/ipykernel_938598/2989318381.py#26\" target=\"_blank\"><span style=\"color: #7f7f7f; text-decoration-color: #7f7f7f\">26</span></a>\n",
       "</pre>\n"
      ],
      "text/plain": [
       "\u001b[2;36m                   \u001b[0m\u001b[2;36m \u001b[0m\u001b[34mINFO    \u001b[0m Loading context\u001b[33m...\u001b[0m                                                    \u001b]8;id=527849;file:///tmp/ipykernel_938598/2989318381.py\u001b\\\u001b[2m2989318381.py\u001b[0m\u001b]8;;\u001b\\\u001b[2m:\u001b[0m\u001b]8;id=538230;file:///tmp/ipykernel_938598/2989318381.py#26\u001b\\\u001b[2m26\u001b[0m\u001b]8;;\u001b\\\n"
      ]
     },
     "metadata": {},
     "output_type": "display_data"
    },
    {
     "data": {
      "text/html": [
       "<pre style=\"white-space:pre;overflow-x:auto;line-height:normal;font-family:Menlo,'DejaVu Sans Mono',consolas,'Courier New',monospace\"><span style=\"color: #7fbfbf; text-decoration-color: #7fbfbf\">                    </span><span style=\"color: #000080; text-decoration-color: #000080\">INFO    </span> Kedro is sending anonymous usage data with the sole purpose of improving <a href=\"file:///home/guillaume/Workspace/kedro-dagster/.venv/lib/python3.12/site-packages/kedro_telemetry/plugin.py\" target=\"_blank\"><span style=\"color: #7f7f7f; text-decoration-color: #7f7f7f\">plugin.py</span></a><span style=\"color: #7f7f7f; text-decoration-color: #7f7f7f\">:</span><a href=\"file:///home/guillaume/Workspace/kedro-dagster/.venv/lib/python3.12/site-packages/kedro_telemetry/plugin.py#233\" target=\"_blank\"><span style=\"color: #7f7f7f; text-decoration-color: #7f7f7f\">233</span></a>\n",
       "<span style=\"color: #7fbfbf; text-decoration-color: #7fbfbf\">                    </span>         the product. No personal data or IP addresses are stored on our side. If <span style=\"color: #7f7f7f; text-decoration-color: #7f7f7f\">             </span>\n",
       "<span style=\"color: #7fbfbf; text-decoration-color: #7fbfbf\">                    </span>         you want to opt out, set the `KEDRO_DISABLE_TELEMETRY` or `DO_NOT_TRACK` <span style=\"color: #7f7f7f; text-decoration-color: #7f7f7f\">             </span>\n",
       "<span style=\"color: #7fbfbf; text-decoration-color: #7fbfbf\">                    </span>         environment variables, or create a `.telemetry` file in the current      <span style=\"color: #7f7f7f; text-decoration-color: #7f7f7f\">             </span>\n",
       "<span style=\"color: #7fbfbf; text-decoration-color: #7fbfbf\">                    </span>         working directory with the contents `consent: false`. Read more at       <span style=\"color: #7f7f7f; text-decoration-color: #7f7f7f\">             </span>\n",
       "<span style=\"color: #7fbfbf; text-decoration-color: #7fbfbf\">                    </span>         <span style=\"color: #0000ff; text-decoration-color: #0000ff; text-decoration: underline\">https://docs.kedro.org/en/stable/configuration/telemetry.html</span>            <span style=\"color: #7f7f7f; text-decoration-color: #7f7f7f\">             </span>\n",
       "</pre>\n"
      ],
      "text/plain": [
       "\u001b[2;36m                   \u001b[0m\u001b[2;36m \u001b[0m\u001b[34mINFO    \u001b[0m Kedro is sending anonymous usage data with the sole purpose of improving \u001b]8;id=708771;file:///home/guillaume/Workspace/kedro-dagster/.venv/lib/python3.12/site-packages/kedro_telemetry/plugin.py\u001b\\\u001b[2mplugin.py\u001b[0m\u001b]8;;\u001b\\\u001b[2m:\u001b[0m\u001b]8;id=800207;file:///home/guillaume/Workspace/kedro-dagster/.venv/lib/python3.12/site-packages/kedro_telemetry/plugin.py#233\u001b\\\u001b[2m233\u001b[0m\u001b]8;;\u001b\\\n",
       "\u001b[2;36m                    \u001b[0m         the product. No personal data or IP addresses are stored on our side. If \u001b[2m             \u001b[0m\n",
       "\u001b[2;36m                    \u001b[0m         you want to opt out, set the `KEDRO_DISABLE_TELEMETRY` or `DO_NOT_TRACK` \u001b[2m             \u001b[0m\n",
       "\u001b[2;36m                    \u001b[0m         environment variables, or create a `.telemetry` file in the current      \u001b[2m             \u001b[0m\n",
       "\u001b[2;36m                    \u001b[0m         working directory with the contents `consent: false`. Read more at       \u001b[2m             \u001b[0m\n",
       "\u001b[2;36m                    \u001b[0m         \u001b[4;94mhttps://docs.kedro.org/en/stable/configuration/telemetry.html\u001b[0m            \u001b[2m             \u001b[0m\n"
      ]
     },
     "metadata": {},
     "output_type": "display_data"
    },
    {
     "data": {
      "text/html": [
       "<pre style=\"white-space:pre;overflow-x:auto;line-height:normal;font-family:Menlo,'DejaVu Sans Mono',consolas,'Courier New',monospace\"><span style=\"color: #7fbfbf; text-decoration-color: #7fbfbf\">                    </span><span style=\"color: #000080; text-decoration-color: #000080\">INFO    </span> Registering datasets<span style=\"color: #808000; text-decoration-color: #808000\">...</span>                                               <a href=\"file:///tmp/ipykernel_938598/2989318381.py\" target=\"_blank\"><span style=\"color: #7f7f7f; text-decoration-color: #7f7f7f\">2989318381.py</span></a><span style=\"color: #7f7f7f; text-decoration-color: #7f7f7f\">:</span><a href=\"file:///tmp/ipykernel_938598/2989318381.py#29\" target=\"_blank\"><span style=\"color: #7f7f7f; text-decoration-color: #7f7f7f\">29</span></a>\n",
       "</pre>\n"
      ],
      "text/plain": [
       "\u001b[2;36m                   \u001b[0m\u001b[2;36m \u001b[0m\u001b[34mINFO    \u001b[0m Registering datasets\u001b[33m...\u001b[0m                                               \u001b]8;id=327671;file:///tmp/ipykernel_938598/2989318381.py\u001b\\\u001b[2m2989318381.py\u001b[0m\u001b]8;;\u001b\\\u001b[2m:\u001b[0m\u001b]8;id=804976;file:///tmp/ipykernel_938598/2989318381.py#29\u001b\\\u001b[2m29\u001b[0m\u001b]8;;\u001b\\\n"
      ]
     },
     "metadata": {},
     "output_type": "display_data"
    }
   ],
   "source": [
    "execution_config = kedro_init(\n",
    "    pipeline_name=\"data_processing\", project_path=\"../\", env=None\n",
    ")"
   ]
  },
  {
   "cell_type": "code",
   "execution_count": 26,
   "id": "e91a70cc",
   "metadata": {},
   "outputs": [
    {
     "data": {
      "text/html": [
       "<pre style=\"white-space:pre;overflow-x:auto;line-height:normal;font-family:Menlo,'DejaVu Sans Mono',consolas,'Courier New',monospace\"></pre>\n"
      ],
      "text/plain": []
     },
     "metadata": {},
     "output_type": "display_data"
    },
    {
     "data": {
      "text/plain": [
       "\n",
       "\u001b[1m[\u001b[0m\n",
       "    \u001b[32m'companies'\u001b[0m,\n",
       "    \u001b[32m'reviews'\u001b[0m,\n",
       "    \u001b[32m'shuttles'\u001b[0m,\n",
       "    \u001b[32m'preprocessed_companies'\u001b[0m,\n",
       "    \u001b[32m'preprocessed_shuttles'\u001b[0m,\n",
       "    \u001b[32m'model_input_table'\u001b[0m,\n",
       "    \u001b[32m'regressor'\u001b[0m,\n",
       "    \u001b[32m'parameters'\u001b[0m,\n",
       "    \u001b[32m'params:model_options'\u001b[0m,\n",
       "    \u001b[32m'params:model_options.test_size'\u001b[0m,\n",
       "    \u001b[32m'params:model_options.random_state'\u001b[0m,\n",
       "    \u001b[32m'params:model_options.features'\u001b[0m\n",
       "\u001b[1m]\u001b[0m"
      ]
     },
     "execution_count": 26,
     "metadata": {},
     "output_type": "execute_result"
    }
   ],
   "source": [
    "catalog = execution_config[\"catalog\"]\n",
    "catalog.list()"
   ]
  },
  {
   "cell_type": "code",
   "execution_count": 30,
   "id": "462ffa63",
   "metadata": {},
   "outputs": [
    {
     "data": {
      "text/html": [
       "<pre style=\"white-space:pre;overflow-x:auto;line-height:normal;font-family:Menlo,'DejaVu Sans Mono',consolas,'Courier New',monospace\"></pre>\n"
      ],
      "text/plain": []
     },
     "metadata": {},
     "output_type": "display_data"
    },
    {
     "data": {
      "text/plain": [
       "\n",
       "\u001b[1m[\u001b[0m\n",
       "    \u001b[1;35mNode\u001b[0m\u001b[1m(\u001b[0mpreprocess_companies, \u001b[32m'companies'\u001b[0m, \u001b[32m'preprocessed_companies'\u001b[0m, \u001b[32m'preprocess_companies_node'\u001b[0m\u001b[1m)\u001b[0m,\n",
       "    \u001b[1;35mNode\u001b[0m\u001b[1m(\u001b[0mpreprocess_shuttles, \u001b[32m'shuttles'\u001b[0m, \u001b[32m'preprocessed_shuttles'\u001b[0m, \u001b[32m'preprocess_shuttles_node'\u001b[0m\u001b[1m)\u001b[0m,\n",
       "    \u001b[1;35mNode\u001b[0m\u001b[1m(\u001b[0mcreate_model_input_table, \u001b[1m[\u001b[0m\u001b[32m'preprocessed_shuttles'\u001b[0m, \u001b[32m'preprocessed_companies'\u001b[0m, \u001b[32m'reviews'\u001b[0m\u001b[1m]\u001b[0m, \u001b[32m'model_input_table'\u001b[0m, \u001b[32m'create_model_input_table_node'\u001b[0m\u001b[1m)\u001b[0m,\n",
       "    \u001b[1;35mNode\u001b[0m\u001b[1m(\u001b[0msplit_data, \u001b[1m[\u001b[0m\u001b[32m'model_input_table'\u001b[0m, \u001b[32m'params:model_options'\u001b[0m\u001b[1m]\u001b[0m, \u001b[1m[\u001b[0m\u001b[32m'X_train'\u001b[0m, \u001b[32m'X_test'\u001b[0m, \u001b[32m'y_train'\u001b[0m, \u001b[32m'y_test'\u001b[0m\u001b[1m]\u001b[0m, \u001b[32m'split_data_node'\u001b[0m\u001b[1m)\u001b[0m,\n",
       "    \u001b[1;35mNode\u001b[0m\u001b[1m(\u001b[0mtrain_model, \u001b[1m[\u001b[0m\u001b[32m'X_train'\u001b[0m, \u001b[32m'y_train'\u001b[0m\u001b[1m]\u001b[0m, \u001b[32m'regressor'\u001b[0m, \u001b[32m'train_model_node'\u001b[0m\u001b[1m)\u001b[0m,\n",
       "    \u001b[1;35mNode\u001b[0m\u001b[1m(\u001b[0mevaluate_model, \u001b[1m[\u001b[0m\u001b[32m'regressor'\u001b[0m, \u001b[32m'X_test'\u001b[0m, \u001b[32m'y_test'\u001b[0m\u001b[1m]\u001b[0m, \u001b[3;35mNone\u001b[0m, \u001b[32m'evaluate_model_node'\u001b[0m\u001b[1m)\u001b[0m\n",
       "\u001b[1m]\u001b[0m"
      ]
     },
     "execution_count": 30,
     "metadata": {},
     "output_type": "execute_result"
    }
   ],
   "source": [
    "pipelines[\"__default__\"].nodes"
   ]
  },
  {
   "cell_type": "code",
   "execution_count": 25,
   "id": "918a31da",
   "metadata": {},
   "outputs": [
    {
     "data": {
      "text/html": [
       "<pre style=\"white-space:pre;overflow-x:auto;line-height:normal;font-family:Menlo,'DejaVu Sans Mono',consolas,'Courier New',monospace\"><span style=\"color: #800000; text-decoration-color: #800000\">╭─────────────────────────────── </span><span style=\"color: #800000; text-decoration-color: #800000; font-weight: bold\">Traceback </span><span style=\"color: #bf7f7f; text-decoration-color: #bf7f7f; font-weight: bold\">(most recent call last)</span><span style=\"color: #800000; text-decoration-color: #800000\"> ────────────────────────────────╮</span>\n",
       "<span style=\"color: #800000; text-decoration-color: #800000\">│</span> in <span style=\"color: #00ff00; text-decoration-color: #00ff00\">&lt;module&gt;</span>:<span style=\"color: #0000ff; text-decoration-color: #0000ff\">5</span>                                                                                    <span style=\"color: #800000; text-decoration-color: #800000\">│</span>\n",
       "<span style=\"color: #800000; text-decoration-color: #800000\">│</span>                                                                                                  <span style=\"color: #800000; text-decoration-color: #800000\">│</span>\n",
       "<span style=\"color: #800000; text-decoration-color: #800000\">│</span>   <span style=\"color: #7f7f7f; text-decoration-color: #7f7f7f\">2 </span>                                                                                             <span style=\"color: #800000; text-decoration-color: #800000\">│</span>\n",
       "<span style=\"color: #800000; text-decoration-color: #800000\">│</span>   <span style=\"color: #7f7f7f; text-decoration-color: #7f7f7f\">3 </span>memory_assets = {                                                                            <span style=\"color: #800000; text-decoration-color: #800000\">│</span>\n",
       "<span style=\"color: #800000; text-decoration-color: #800000\">│</span>   <span style=\"color: #7f7f7f; text-decoration-color: #7f7f7f\">4 </span><span style=\"color: #7f7f7f; text-decoration-color: #7f7f7f\">│   </span>asset_name: asset                                                                        <span style=\"color: #800000; text-decoration-color: #800000\">│</span>\n",
       "<span style=\"color: #800000; text-decoration-color: #800000\">│</span> <span style=\"color: #800000; text-decoration-color: #800000\">❱ </span>5 <span style=\"color: #7f7f7f; text-decoration-color: #7f7f7f\">│   </span><span style=\"color: #0000ff; text-decoration-color: #0000ff\">for</span> asset_name, asset <span style=\"color: #ff00ff; text-decoration-color: #ff00ff\">in</span> <span style=\"font-weight: bold; text-decoration: underline\">catalog.items</span>()                                                 <span style=\"color: #800000; text-decoration-color: #800000\">│</span>\n",
       "<span style=\"color: #800000; text-decoration-color: #800000\">│</span>   <span style=\"color: #7f7f7f; text-decoration-color: #7f7f7f\">6 </span><span style=\"color: #7f7f7f; text-decoration-color: #7f7f7f\">│   </span><span style=\"color: #0000ff; text-decoration-color: #0000ff\">if</span> <span style=\"color: #00ffff; text-decoration-color: #00ffff\">isinstance</span>(asset, MemoryDataset)                                                      <span style=\"color: #800000; text-decoration-color: #800000\">│</span>\n",
       "<span style=\"color: #800000; text-decoration-color: #800000\">│</span>   <span style=\"color: #7f7f7f; text-decoration-color: #7f7f7f\">7 </span>}                                                                                            <span style=\"color: #800000; text-decoration-color: #800000\">│</span>\n",
       "<span style=\"color: #800000; text-decoration-color: #800000\">│</span>   <span style=\"color: #7f7f7f; text-decoration-color: #7f7f7f\">8 </span>memory_assets                                                                                <span style=\"color: #800000; text-decoration-color: #800000\">│</span>\n",
       "<span style=\"color: #800000; text-decoration-color: #800000\">╰──────────────────────────────────────────────────────────────────────────────────────────────────╯</span>\n",
       "<span style=\"color: #ff0000; text-decoration-color: #ff0000; font-weight: bold\">AttributeError: </span><span style=\"color: #008000; text-decoration-color: #008000\">'DataCatalog'</span> object has no attribute <span style=\"color: #008000; text-decoration-color: #008000\">'items'</span>\n",
       "</pre>\n"
      ],
      "text/plain": [
       "\u001b[31m╭─\u001b[0m\u001b[31m──────────────────────────────\u001b[0m\u001b[31m \u001b[0m\u001b[1;31mTraceback \u001b[0m\u001b[1;2;31m(most recent call last)\u001b[0m\u001b[31m \u001b[0m\u001b[31m───────────────────────────────\u001b[0m\u001b[31m─╮\u001b[0m\n",
       "\u001b[31m│\u001b[0m in \u001b[92m<module>\u001b[0m:\u001b[94m5\u001b[0m                                                                                    \u001b[31m│\u001b[0m\n",
       "\u001b[31m│\u001b[0m                                                                                                  \u001b[31m│\u001b[0m\n",
       "\u001b[31m│\u001b[0m   \u001b[2m2 \u001b[0m                                                                                             \u001b[31m│\u001b[0m\n",
       "\u001b[31m│\u001b[0m   \u001b[2m3 \u001b[0mmemory_assets = {                                                                            \u001b[31m│\u001b[0m\n",
       "\u001b[31m│\u001b[0m   \u001b[2m4 \u001b[0m\u001b[2m│   \u001b[0masset_name: asset                                                                        \u001b[31m│\u001b[0m\n",
       "\u001b[31m│\u001b[0m \u001b[31m❱ \u001b[0m5 \u001b[2m│   \u001b[0m\u001b[94mfor\u001b[0m asset_name, asset \u001b[95min\u001b[0m \u001b[1;4mcatalog.items\u001b[0m()                                                 \u001b[31m│\u001b[0m\n",
       "\u001b[31m│\u001b[0m   \u001b[2m6 \u001b[0m\u001b[2m│   \u001b[0m\u001b[94mif\u001b[0m \u001b[96misinstance\u001b[0m(asset, MemoryDataset)                                                      \u001b[31m│\u001b[0m\n",
       "\u001b[31m│\u001b[0m   \u001b[2m7 \u001b[0m}                                                                                            \u001b[31m│\u001b[0m\n",
       "\u001b[31m│\u001b[0m   \u001b[2m8 \u001b[0mmemory_assets                                                                                \u001b[31m│\u001b[0m\n",
       "\u001b[31m╰──────────────────────────────────────────────────────────────────────────────────────────────────╯\u001b[0m\n",
       "\u001b[1;91mAttributeError: \u001b[0m\u001b[32m'DataCatalog'\u001b[0m object has no attribute \u001b[32m'items'\u001b[0m\n"
      ]
     },
     "metadata": {},
     "output_type": "display_data"
    }
   ],
   "source": [
    "from kedro.io import DataCatalog, MemoryDataset\n",
    "\n",
    "memory_assets = {\n",
    "    asset_name: asset\n",
    "    for asset_name in catalog.list()\n",
    "    if isinstance(asset, MemoryDataset)\n",
    "}\n",
    "memory_assets"
   ]
  },
  {
   "cell_type": "code",
   "execution_count": 20,
   "id": "36a3260d",
   "metadata": {},
   "outputs": [
    {
     "name": "stdout",
     "output_type": "stream",
     "text": [
      "field3=3.14 field4=True field1='example' field2=42\n"
     ]
    }
   ],
   "source": [
    "from pydantic import BaseModel\n",
    "\n",
    "\n",
    "# Define the first Pydantic model\n",
    "class ModelA(BaseModel):\n",
    "    field1: str\n",
    "    field2: int\n",
    "\n",
    "\n",
    "# Define the second Pydantic model\n",
    "class ModelB(BaseModel):\n",
    "    field3: float\n",
    "    field4: bool\n",
    "\n",
    "\n",
    "class CombinedModel(ModelA, ModelB):\n",
    "    pass\n",
    "\n",
    "\n",
    "# Example usage\n",
    "combined_instance = CombinedModel(field1=\"example\", field2=42, field3=3.14, field4=True)\n",
    "\n",
    "# Print the instance of the combined model\n",
    "print(combined_instance)"
   ]
  },
  {
   "cell_type": "code",
   "execution_count": 27,
   "id": "24571b14",
   "metadata": {},
   "outputs": [
    {
     "data": {
      "text/html": [
       "<pre style=\"white-space:pre;overflow-x:auto;line-height:normal;font-family:Menlo,'DejaVu Sans Mono',consolas,'Courier New',monospace\"></pre>\n"
      ],
      "text/plain": []
     },
     "metadata": {},
     "output_type": "display_data"
    },
    {
     "data": {
      "text/plain": [
       "\u001b[1m{\u001b[0m\u001b[32m'field1'\u001b[0m: \u001b[1m<\u001b[0m\u001b[1;95mclass\u001b[0m\u001b[39m \u001b[0m\u001b[32m'str'\u001b[0m\u001b[39m>, \u001b[0m\u001b[32m'field2'\u001b[0m\u001b[39m: <class \u001b[0m\u001b[32m'int'\u001b[0m\u001b[1m>\u001b[0m\u001b[1m}\u001b[0m"
      ]
     },
     "execution_count": 27,
     "metadata": {},
     "output_type": "execute_result"
    }
   ],
   "source": [
    "combined_instance.__annotations__"
   ]
  },
  {
   "cell_type": "code",
   "execution_count": null,
   "id": "fc3a12b3",
   "metadata": {},
   "outputs": [],
   "source": [
    "def init_kedro_tasks_by_execution_layer(\n",
    "    pipeline_name: str,\n",
    "    execution_config: Union[None, Dict[str, Union[DataCatalog, str]]] = None,\n",
    ") -> List[List[Callable]]:\n",
    "    \"\"\"\n",
    "    Inits the Kedro tasks ordered topologically in groups, which implies that an earlier group\n",
    "    is the dependency of later one.\n",
    "\n",
    "    Args:\n",
    "        pipeline_name (str): The pipeline name to execute\n",
    "        execution_config (Union[None, Dict[str, Union[DataCatalog, str]]], optional):\n",
    "        The required execution config for each node. Defaults to None.\n",
    "\n",
    "    Returns:\n",
    "        List[List[Callable]]: A list of topologically ordered task groups\n",
    "    \"\"\"\n",
    "\n",
    "    pipeline = pipelines.get(pipeline_name)\n",
    "\n",
    "    execution_layers = []\n",
    "\n",
    "    # Return a list of the pipeline nodes in topologically ordered groups,\n",
    "    #  i.e. if node A needs to be run before node B, it will appear in an\n",
    "    #  earlier group.\n",
    "    for layer in pipeline.grouped_nodes:\n",
    "        execution_layer = []\n",
    "        for node in layer:\n",
    "            # Use a function for task instantiation which avoids duplication of\n",
    "            # tasks\n",
    "            task = instantiate_task(node, execution_config)\n",
    "            execution_layer.append(task)\n",
    "        execution_layers.append(execution_layer)\n",
    "\n",
    "    return execution_layers"
   ]
  },
  {
   "cell_type": "code",
   "execution_count": null,
   "id": "e657b194",
   "metadata": {},
   "outputs": [],
   "source": [
    "@flow(name=\"my_flow\")\n",
    "def my_flow(pipeline_name: str, env: str):\n",
    "    logger = get_dagster_logger()  # Use context?\n",
    "    project_path = Path.cwd()\n",
    "\n",
    "    metadata = bootstrap_project(project_path)\n",
    "    logger.info(\"Project name: %s\", metadata.project_name)\n",
    "\n",
    "    logger.info(\"Initializing Kedro...\")\n",
    "    execution_config = kedro_init(\n",
    "        pipeline_name=pipeline_name, project_path=project_path, env=env\n",
    "    )\n",
    "\n",
    "    logger.info(\"Building execution layers...\")\n",
    "    execution_layers = init_kedro_tasks_by_execution_layer(\n",
    "        pipeline_name, execution_config\n",
    "    )\n",
    "\n",
    "    for layer in execution_layers:\n",
    "        logger.info(\"Running layer...\")\n",
    "        for node_task in layer:\n",
    "            logger.info(\"Running node...\")\n",
    "            node_task()"
   ]
  },
  {
   "cell_type": "code",
   "execution_count": null,
   "id": "8d6fb249",
   "metadata": {},
   "outputs": [],
   "source": [
    "@click.command()\n",
    "@click.option(\"-p\", \"--pipeline\", \"pipeline_name\", default=\"__default__\")\n",
    "@click.option(\"--env\", \"-e\", type=str, default=\"base\")\n",
    "@click.option(\"--deployment_name\", \"deployment_name\", default=\"example\")\n",
    "@click.option(\"--work_pool_name\", \"work_pool_name\", default=\"default\")\n",
    "@click.option(\"--work_queue_name\", \"work_queue_name\", default=\"default\")\n",
    "@click.option(\"--version\", \"version\", default=\"1.0\")\n",
    "def dagster_deploy(\n",
    "    pipeline_name, env, deployment_name, work_pool_name, work_queue_name, version\n",
    "):\n",
    "    \"\"\"Register a Kedro pipeline as a Dagster job.\"\"\"\n",
    "\n",
    "    # Pipeline name to execute\n",
    "    pipeline_name = pipeline_name or \"__default__\"\n",
    "\n",
    "    # Use standard deployment configuration for local execution. If you require a different\n",
    "    # infrastructure, check the API docs for Deployments at: https://docs.prefect.io/latest/api-ref/prefect/deployments/\n",
    "    deployment = Deployment.build_from_flow(\n",
    "        flow=my_flow,\n",
    "        name=deployment_name,\n",
    "        path=str(Path.cwd()),\n",
    "        version=version,\n",
    "        parameters={\n",
    "            \"pipeline_name\": pipeline_name,\n",
    "            \"env\": env,\n",
    "        },\n",
    "        infra_overrides={\"env\": {\"PREFECT_LOGGING_LEVEL\": \"DEBUG\"}},\n",
    "        work_pool_name=work_pool_name,\n",
    "        work_queue_name=work_queue_name,\n",
    "    )\n",
    "\n",
    "    deployment.apply()"
   ]
  }
 ],
 "metadata": {
  "kernelspec": {
   "display_name": ".venv",
   "language": "python",
   "name": "python3"
  },
  "language_info": {
   "codemirror_mode": {
    "name": "ipython",
    "version": 3
   },
   "file_extension": ".py",
   "mimetype": "text/x-python",
   "name": "python",
   "nbconvert_exporter": "python",
   "pygments_lexer": "ipython3",
   "version": "3.12.3"
  }
 },
 "nbformat": 4,
 "nbformat_minor": 5
}
